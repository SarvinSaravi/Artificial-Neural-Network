{
  "nbformat": 4,
  "nbformat_minor": 0,
  "metadata": {
    "colab": {
      "provenance": [],
      "toc_visible": true,
      "authorship_tag": "ABX9TyOjoHypOqG8hqJDV913MoIl",
      "include_colab_link": true
    },
    "kernelspec": {
      "name": "python3",
      "display_name": "Python 3"
    },
    "language_info": {
      "name": "python"
    }
  },
  "cells": [
    {
      "cell_type": "markdown",
      "metadata": {
        "id": "view-in-github",
        "colab_type": "text"
      },
      "source": [
        "<a href=\"https://colab.research.google.com/github/SarvinSaravi/Artificial-Neural-Network/blob/main/neural_network_from_scratch.ipynb\" target=\"_parent\"><img src=\"https://colab.research.google.com/assets/colab-badge.svg\" alt=\"Open In Colab\"/></a>"
      ]
    },
    {
      "cell_type": "markdown",
      "source": [
        "# Neuron Intro\n",
        "P.1 Intro and Neuron Code (Perceptron without an activation function)"
      ],
      "metadata": {
        "id": "Opa3Xv8PWwOp"
      }
    },
    {
      "cell_type": "code",
      "execution_count": 15,
      "metadata": {
        "colab": {
          "base_uri": "https://localhost:8080/"
        },
        "id": "vkZKGYnrWjz8",
        "outputId": "a100ba45-1b2a-4930-d8f0-48e7f9e109af"
      },
      "outputs": [
        {
          "output_type": "stream",
          "name": "stdout",
          "text": [
            "35.91\n"
          ]
        }
      ],
      "source": [
        "inputs = [1.2, 5.2, 2.1]\n",
        "weights = [3.1, 2.1, 8.7]\n",
        "\n",
        "bias = 3\n",
        "\n",
        "output = inputs[0]*weights[0] + inputs[1]*weights[1] + inputs[2]*weights[2] + bias\n",
        "print(output)"
      ]
    },
    {
      "cell_type": "markdown",
      "source": [
        "# Layer\n",
        " P.2 Coding a Layer: a layer that poses 3 neurons and gets 4 inputs"
      ],
      "metadata": {
        "id": "BRVnlKBFXTpW"
      }
    },
    {
      "cell_type": "code",
      "source": [
        "inputs = [1, 2, 3, 2.5]\n",
        "weights1 = [0.2, 0.8, -0.5, 1.0]\n",
        "weights2 = [0.5, -0.91, 0.26, -0.5]\n",
        "weights3 = [-0.26, -0.27, 0.17, 0.87]\n",
        "\n",
        "bias1 = 2\n",
        "bias2 = 3\n",
        "bias3 = 0.5\n",
        "\n",
        "output = [inputs[0]*weights1[0] + inputs[1]*weights1[1] + inputs[2]*weights1[2] + inputs[3]*weights1[3] + bias1,\n",
        "          inputs[0]*weights2[0] + inputs[1]*weights2[1] + inputs[2]*weights2[2] + inputs[3]*weights2[3] + bias2,\n",
        "          inputs[0]*weights3[0] + inputs[1]*weights3[1] + inputs[2]*weights3[2] + inputs[3]*weights3[3] + bias3]\n",
        "\n",
        "print(output)"
      ],
      "metadata": {
        "colab": {
          "base_uri": "https://localhost:8080/"
        },
        "id": "n-RPbc8sXXcg",
        "outputId": "01cb7857-b65b-4053-ec64-6ff70ac42f5d"
      },
      "execution_count": 2,
      "outputs": [
        {
          "output_type": "stream",
          "name": "stdout",
          "text": [
            "[4.8, 1.21, 2.385]\n"
          ]
        }
      ]
    },
    {
      "cell_type": "markdown",
      "source": [
        "# Dot Product\n",
        "P.3 The Dot Product/Matrix Product + **Numpy** + Understanding Shape"
      ],
      "metadata": {
        "id": "kFuL5radeYuG"
      }
    },
    {
      "cell_type": "code",
      "source": [
        "inputs = [1, 2, 3, 2.5]\n",
        "\n",
        "weights = [[0.2, 0.8, -0.5, 1.0],\n",
        "           [0.5, -0.91, 0.26, -0.5],\n",
        "           [-0.26, -0.27, 0.17, 0.87]]\n",
        "\n",
        "biases = [2, 3, 0.5]\n",
        "\n",
        "\n",
        "layer_outputs = []\n",
        "for neuron_weights, neuron_bias in zip(weights, biases):\n",
        "  neuron_output = 0\n",
        "  for n_input, weight in zip(inputs, neuron_weights):\n",
        "    neuron_output += n_input*weight\n",
        "  neuron_output += neuron_bias\n",
        "  layer_outputs.append(neuron_output)\n",
        "\n",
        "print(layer_outputs)\n"
      ],
      "metadata": {
        "colab": {
          "base_uri": "https://localhost:8080/"
        },
        "id": "nT7e21-HegEN",
        "outputId": "abfc34bd-c5a8-4427-9ff1-c5d58503613b"
      },
      "execution_count": 3,
      "outputs": [
        {
          "output_type": "stream",
          "name": "stdout",
          "text": [
            "[4.8, 1.21, 2.385]\n"
          ]
        }
      ]
    },
    {
      "cell_type": "code",
      "source": [
        "import numpy as np\n",
        "\n",
        "inputs = [1, 2, 3, 2.5]\n",
        "weights = [0.2, 0.8, -0.5, 1.0]\n",
        "biases = 2\n",
        "\n",
        "# output = np.dot(inputs, weights) + biases\n",
        "output = np.dot(weights, inputs) + biases\n",
        "print(output)"
      ],
      "metadata": {
        "colab": {
          "base_uri": "https://localhost:8080/"
        },
        "id": "UzoGeYb01PPo",
        "outputId": "60371d89-a190-4693-8b41-38adc82acf4b"
      },
      "execution_count": 4,
      "outputs": [
        {
          "output_type": "stream",
          "name": "stdout",
          "text": [
            "4.8\n"
          ]
        }
      ]
    },
    {
      "cell_type": "code",
      "source": [
        "inputs = [1, 2, 3, 2.5]\n",
        "\n",
        "weights = [[0.2, 0.8, -0.5, 1.0],\n",
        "           [0.5, -0.91, 0.26, -0.5],\n",
        "           [-0.26, -0.27, 0.17, 0.87]]\n",
        "\n",
        "biases = [2, 3, 0.5]\n",
        "\n",
        "output = np.dot(weights, inputs) + biases\n",
        "\n",
        "\"\"\"\n",
        "output = np.dot(inputs, weights) + biases ===============> throws error becase of SHAPE\n",
        "output = np.dot(inputs, np.array(weights).T) + biases\n",
        "\"\"\"\n",
        "\n",
        "print(output)"
      ],
      "metadata": {
        "colab": {
          "base_uri": "https://localhost:8080/"
        },
        "id": "h67lICOl2ew6",
        "outputId": "5d2ac697-9d34-4301-f38a-ff347a2e30ef"
      },
      "execution_count": 5,
      "outputs": [
        {
          "output_type": "stream",
          "name": "stdout",
          "text": [
            "[4.8   1.21  2.385]\n"
          ]
        }
      ]
    },
    {
      "cell_type": "markdown",
      "source": [
        "# Batch + Object\n",
        "P.4 Batches, Layers, and Objects"
      ],
      "metadata": {
        "id": "Fh1jN1dAIHx7"
      }
    },
    {
      "cell_type": "code",
      "source": [
        "inputs = [[1, 2, 3, 2.5],\n",
        "          [2.0, 5.0, -1.0, 2.0],\n",
        "          [-1.5, 2.7, 3.3, -0.8]]\n",
        "\n",
        "weights = [[0.2, 0.8, -0.5, 1.0],\n",
        "           [0.5, -0.91, 0.26, -0.5],\n",
        "           [-0.26, -0.27, 0.17, 0.87]]\n",
        "\n",
        "biases = [2, 3, 0.5]\n",
        "\n",
        "output = np.dot(inputs, np.array(weights).T) + biases\n",
        "print(output)"
      ],
      "metadata": {
        "id": "i4hMaGC8ISvC",
        "colab": {
          "base_uri": "https://localhost:8080/"
        },
        "outputId": "e5213c2e-3969-4abf-d441-0b44aa17c31c"
      },
      "execution_count": 6,
      "outputs": [
        {
          "output_type": "stream",
          "name": "stdout",
          "text": [
            "[[ 4.8    1.21   2.385]\n",
            " [ 8.9   -1.81   0.2  ]\n",
            " [ 1.41   1.051  0.026]]\n"
          ]
        }
      ]
    },
    {
      "cell_type": "markdown",
      "source": [
        "**Adding a new leyer**"
      ],
      "metadata": {
        "id": "Y9hmbgSAMY_k"
      }
    },
    {
      "cell_type": "code",
      "source": [
        "inputs = [[1.0, 2.0, 3.0, 2.5],\n",
        "          [2.0, 5.0, -1.0, 2.0],\n",
        "          [-1.5, 2.7, 3.3, -0.8]]\n",
        "\n",
        "weights = [[0.2, 0.8, -0.5, 1.0],\n",
        "           [0.5, -0.91, 0.26, -0.5],\n",
        "           [-0.26, -0.27, 0.17, 0.87]]\n",
        "\n",
        "biases = [2.0, 3.0, 0.5]\n",
        "\n",
        "weights2 = [[0.1, -0.14, 0.5],\n",
        "            [-0.5, 0.12, -0.33],\n",
        "            [-0.44, 0.73, -0.13]]\n",
        "\n",
        "biases2 = [-1, 2, -0.5]\n",
        "\n",
        "layer1_outputs = np.dot(inputs, np.array(weights).T) + biases\n",
        "layer2_outputs = np.dot(layer1_outputs, np.array(weights2).T) + biases2\n",
        "\n",
        "print(layer2_outputs)"
      ],
      "metadata": {
        "id": "CqIoZqq6MS98",
        "colab": {
          "base_uri": "https://localhost:8080/"
        },
        "outputId": "e0aa6ac9-47b4-4743-db1e-4036f60c66da"
      },
      "execution_count": 7,
      "outputs": [
        {
          "output_type": "stream",
          "name": "stdout",
          "text": [
            "[[ 0.5031  -1.04185 -2.03875]\n",
            " [ 0.2434  -2.7332  -5.7633 ]\n",
            " [-0.99314  1.41254 -0.35655]]\n"
          ]
        }
      ]
    },
    {
      "cell_type": "markdown",
      "source": [
        "**Converting to Object Layer**"
      ],
      "metadata": {
        "id": "mJEYo8TSPrQ-"
      }
    },
    {
      "cell_type": "code",
      "source": [
        "# input data called X in standard machine learning\n",
        "X = [[1.0, 2.0, 3.0, 2.5],\n",
        "     [2.0, 5.0, -1.0, 2.0],\n",
        "     [-1.5, 2.7, 3.3, -0.8]]\n",
        "\n",
        "np.random.seed(0)\n",
        "\n",
        "class Layer_Dense:\n",
        "  def __init__(self, n_inputs, n_neurons):\n",
        "    self.weights = 0.10 * np.random.randn(n_inputs, n_neurons)\n",
        "    self.biases = np.zeros((1, n_neurons))\n",
        "\n",
        "  def forward(self, inputs):\n",
        "    self.output = np.dot(inputs, self.weights) + self.biases\n",
        "\n",
        "# print(0.10 * np.random.randn(4, 3)) #to check something\n",
        "\n",
        "# n_neurons (second item) are whatever you want!\n",
        "layer1 = Layer_Dense(4, 5)\n",
        "layer2 = Layer_Dense(5, 2)\n",
        "\n",
        "layer1.forward(X)\n",
        "print(layer1.output)\n",
        "layer2.forward(layer1.output)\n",
        "print(layer2.output)"
      ],
      "metadata": {
        "id": "q6FGM3tXPum4",
        "colab": {
          "base_uri": "https://localhost:8080/"
        },
        "outputId": "537f7146-0061-4ff9-c557-0b1d810edc2f"
      },
      "execution_count": 8,
      "outputs": [
        {
          "output_type": "stream",
          "name": "stdout",
          "text": [
            "[[ 0.10758131  1.03983522  0.24462411  0.31821498  0.18851053]\n",
            " [-0.08349796  0.70846411  0.00293357  0.44701525  0.36360538]\n",
            " [-0.50763245  0.55688422  0.07987797 -0.34889573  0.04553042]]\n",
            "[[ 0.148296   -0.08397602]\n",
            " [ 0.14100315 -0.01340469]\n",
            " [ 0.20124979 -0.07290616]]\n"
          ]
        }
      ]
    },
    {
      "cell_type": "markdown",
      "source": [
        "# Activation Functions\n",
        "P.5 Hidden Layer Activation Functions"
      ],
      "metadata": {
        "id": "bgJw2_XLaxrK"
      }
    },
    {
      "cell_type": "code",
      "source": [
        "np.random.seed(0)\n",
        "\n",
        "X = [[1.0, 2.0, 3.0, 2.5],\n",
        "     [2.0, 5.0, -1.0, 2.0],\n",
        "     [-1.5, 2.7, 3.3, -0.8]]\n",
        "\n",
        "inputs = [0, 2, -1, 3.3, -2.7, 1.1, 2.2, -100]\n",
        "output = []\n",
        "\n",
        "for i in inputs:\n",
        "  # if i > 0:\n",
        "  #   output.append(i)\n",
        "  # elif i <= 0:\n",
        "  #   output.append(0)\n",
        "\n",
        "  output.append(max(0, i))\n",
        "\n",
        "\n",
        "print(output)"
      ],
      "metadata": {
        "id": "2Zw1GfTya4gw",
        "colab": {
          "base_uri": "https://localhost:8080/"
        },
        "outputId": "197a0b46-2739-4366-f3d7-ab202d4ff364"
      },
      "execution_count": 9,
      "outputs": [
        {
          "output_type": "stream",
          "name": "stdout",
          "text": [
            "[0, 2, 0, 3.3, 0, 1.1, 2.2, 0]\n"
          ]
        }
      ]
    },
    {
      "cell_type": "code",
      "source": [
        "class Activation_ReLU:\n",
        "  def forward(self, inputs):\n",
        "    self.output = np.maximum(0, inputs)"
      ],
      "metadata": {
        "id": "nRLPMEoGdIwF"
      },
      "execution_count": 10,
      "outputs": []
    },
    {
      "cell_type": "markdown",
      "source": [
        "**Jump into using pre-created dataset**"
      ],
      "metadata": {
        "id": "ZC99gWFHf802"
      }
    },
    {
      "cell_type": "code",
      "source": [
        "pip install nnfs"
      ],
      "metadata": {
        "id": "AXAiO0ZZgR39",
        "colab": {
          "base_uri": "https://localhost:8080/"
        },
        "outputId": "6bd8ea12-0dd4-4ea2-de3f-30dbc4a8bc43"
      },
      "execution_count": 11,
      "outputs": [
        {
          "output_type": "stream",
          "name": "stdout",
          "text": [
            "Collecting nnfs\n",
            "  Downloading nnfs-0.5.1-py3-none-any.whl.metadata (1.7 kB)\n",
            "Requirement already satisfied: numpy in /usr/local/lib/python3.10/dist-packages (from nnfs) (1.26.4)\n",
            "Downloading nnfs-0.5.1-py3-none-any.whl (9.1 kB)\n",
            "Installing collected packages: nnfs\n",
            "Successfully installed nnfs-0.5.1\n"
          ]
        }
      ]
    },
    {
      "cell_type": "code",
      "source": [
        "import nnfs\n",
        "\n",
        "from nnfs.datasets import spiral_data  # See for code: https://gist.github.com/Sentdex/454cb20ec5acf0e76ee8ab8448e6266c\n",
        "\n",
        "nnfs.init()\n",
        "\n",
        "X, y = spiral_data(100, 3)\n",
        "\n",
        "\"\"\"\n",
        "class Layer_Dense & class Activation_ReLu are copied from above\n",
        "\n",
        "\"\"\"\n",
        "\n",
        "layer1 = Layer_Dense(2,5)\n",
        "activation1 = Activation_ReLU()\n",
        "\n",
        "layer1.forward(X)\n",
        "\n",
        "# print(layer1.output)\n",
        "activation1.forward(layer1.output)\n",
        "print(activation1.output)\n",
        "\n",
        "\n",
        "\n"
      ],
      "metadata": {
        "id": "ufMNPE1ceulr",
        "colab": {
          "base_uri": "https://localhost:8080/"
        },
        "outputId": "2471e1ce-1b42-4922-8bcc-9ad29d39a8c1"
      },
      "execution_count": 12,
      "outputs": [
        {
          "output_type": "stream",
          "name": "stdout",
          "text": [
            "[[0.00000000e+00 0.00000000e+00 0.00000000e+00 0.00000000e+00\n",
            "  0.00000000e+00]\n",
            " [0.00000000e+00 0.00000000e+00 0.00000000e+00 4.65504505e-04\n",
            "  4.56846210e-05]\n",
            " [0.00000000e+00 5.93469958e-05 0.00000000e+00 2.03573116e-04\n",
            "  6.10024377e-04]\n",
            " ...\n",
            " [1.13291524e-01 0.00000000e+00 0.00000000e+00 8.11079666e-02\n",
            "  0.00000000e+00]\n",
            " [1.34588361e-01 0.00000000e+00 3.09493970e-02 5.66337556e-02\n",
            "  0.00000000e+00]\n",
            " [1.07817926e-01 0.00000000e+00 0.00000000e+00 8.72561932e-02\n",
            "  0.00000000e+00]]\n"
          ]
        }
      ]
    },
    {
      "cell_type": "markdown",
      "source": [
        "# Softmax Activation\n",
        " P.6 Softmax Activation : y=e^(x)"
      ],
      "metadata": {
        "id": "8LrR5zpRdDmJ"
      }
    },
    {
      "cell_type": "code",
      "source": [
        "import math\n",
        "\n",
        "layer_outputs = [4.8, 1.21, 2.385]\n",
        "\n",
        "E = math.e\n",
        "\n",
        "exp_values = []\n",
        "\n",
        "for output in layer_outputs:\n",
        "  exp_values.append(E**output)\n",
        "\n",
        "print(exp_values)"
      ],
      "metadata": {
        "colab": {
          "base_uri": "https://localhost:8080/"
        },
        "id": "IemrGBKadS-u",
        "outputId": "c7a8c940-3427-45b4-d3b3-149d63c14ab3"
      },
      "execution_count": 13,
      "outputs": [
        {
          "output_type": "stream",
          "name": "stdout",
          "text": [
            "[121.51041751873483, 3.353484652549023, 10.859062664920513]\n"
          ]
        }
      ]
    },
    {
      "cell_type": "code",
      "source": [
        "# normalize values\n",
        "norm_base = sum(exp_values)\n",
        "norm_values = []\n",
        "\n",
        "for val in exp_values:\n",
        "  norm_values.append(val / norm_base)\n",
        "\n",
        "print(norm_values)\n",
        "print(sum(norm_values))"
      ],
      "metadata": {
        "colab": {
          "base_uri": "https://localhost:8080/"
        },
        "id": "UWFUpDjAirEY",
        "outputId": "5e0f1e28-cceb-4058-a04b-586196286b9b"
      },
      "execution_count": 14,
      "outputs": [
        {
          "output_type": "stream",
          "name": "stdout",
          "text": [
            "[0.8952826639572619, 0.024708306782099374, 0.0800090292606387]\n",
            "0.9999999999999999\n"
          ]
        }
      ]
    },
    {
      "cell_type": "markdown",
      "source": [
        "**Using numpy**"
      ],
      "metadata": {
        "id": "Rafv4s_SjwSs"
      }
    },
    {
      "cell_type": "code",
      "source": [
        "exp_values = np.exp(layer_outputs)\n",
        "print(exp_values)\n",
        "\n",
        "norm_values = exp_values / np.sum(exp_values)\n",
        "print(norm_values)"
      ],
      "metadata": {
        "colab": {
          "base_uri": "https://localhost:8080/"
        },
        "id": "s_gC5IrJjzQi",
        "outputId": "c78b2368-524a-4149-e290-8810ba953a37"
      },
      "execution_count": 16,
      "outputs": [
        {
          "output_type": "stream",
          "name": "stdout",
          "text": [
            "[121.51041752   3.35348465  10.85906266]\n",
            "[0.89528266 0.02470831 0.08000903]\n"
          ]
        }
      ]
    },
    {
      "cell_type": "markdown",
      "source": [
        "**points up to here**\n",
        "\n",
        "input -> exponantiate -> normalize -> output\n",
        "\n",
        "input -----> Softmax -----> output"
      ],
      "metadata": {
        "id": "4tB2xMu0kVHr"
      }
    },
    {
      "cell_type": "code",
      "source": [
        "# using batch\n",
        "layer_outputs = [[4.8,  1.21, 2.358],\n",
        "                 [8.9, -1.81, 0.2],\n",
        "                 [1.41, 1.051, 0.026]]\n",
        "\n",
        "exp_values = np.exp(layer_outputs)\n",
        "# print(exp_values)\n",
        "\n",
        "# print(np.sum(exp_values, axis=1, keepdims=True))\n",
        "\n",
        "norm_values = exp_values / np.sum(layer_outputs, axis=1, keepdims=True)\n",
        "print(norm_values)"
      ],
      "metadata": {
        "colab": {
          "base_uri": "https://localhost:8080/"
        },
        "id": "2ogy6LGikszg",
        "outputId": "70a16ea7-61a2-487c-acaa-5ed0614f4728"
      },
      "execution_count": null,
      "outputs": [
        {
          "output_type": "stream",
          "name": "stdout",
          "text": [
            "[[1.45208434e+01 4.00751034e-01 1.26312031e+00]\n",
            " [1.00575769e+03 2.24491271e-02 1.67544960e-01]\n",
            " [1.64694628e+00 1.15018504e+00 4.12682327e-01]]\n"
          ]
        }
      ]
    },
    {
      "cell_type": "markdown",
      "source": [
        "**Keypoint**: u-max(u) before the exponetiate operation"
      ],
      "metadata": {
        "id": "fLr4TqItnzal"
      }
    },
    {
      "cell_type": "markdown",
      "source": [
        "**Object class**"
      ],
      "metadata": {
        "id": "vg_OsukNoH_X"
      }
    },
    {
      "cell_type": "code",
      "source": [
        "class Activation_Softmax:\n",
        "  def forward(self, inputs):\n",
        "    exp_values = np.exp(inputs - np.max(inputs, axis=1, keepdims=True))\n",
        "    probabilities = exp_values / np.sum(exp_values, axis=1, keepdims=True)\n",
        "    self.output = probabilities\n",
        "\n",
        "\n",
        "X, y = spiral_data(samples=100, classes=3)\n",
        "\n",
        "dense1 = Layer_Dense(2, 3)\n",
        "activation1 = Activation_ReLU()\n",
        "\n",
        "dense2 = Layer_Dense(3, 3)\n",
        "activation2 = Activation_Softmax()\n",
        "\n",
        "dense1.forward(X)\n",
        "activation1.forward(dense1.output)\n",
        "\n",
        "dense2.forward(activation1.output)\n",
        "activation2.forward(dense2.output)\n",
        "\n",
        "print(activation2.output[:5])\n",
        "\n"
      ],
      "metadata": {
        "colab": {
          "base_uri": "https://localhost:8080/"
        },
        "id": "76KU_um9oHR8",
        "outputId": "158d7169-5423-45b0-e5e3-0eccf4375c8f"
      },
      "execution_count": null,
      "outputs": [
        {
          "output_type": "stream",
          "name": "stdout",
          "text": [
            "[[0.33333334 0.33333334 0.33333334]\n",
            " [0.33333507 0.33333328 0.3333316 ]\n",
            " [0.33327106 0.3333301  0.33339888]\n",
            " [0.33329675 0.33330458 0.33339873]\n",
            " [0.33331198 0.33331373 0.33337426]]\n"
          ]
        }
      ]
    },
    {
      "cell_type": "markdown",
      "source": [
        "# Calculating Loss\n",
        "P.7 Calculating Loss with Categorical Cross-Entropy\n",
        "\n",
        "**Keypoint**: One-hot encoding"
      ],
      "metadata": {
        "id": "jutw5LDK3bMZ"
      }
    },
    {
      "cell_type": "code",
      "source": [
        "b = 5.2\n",
        "\n",
        "print(np.log(b))\n",
        "\n",
        "E = math.e\n",
        "\n",
        "print(E ** np.log(b)) # close to 5.2"
      ],
      "metadata": {
        "colab": {
          "base_uri": "https://localhost:8080/"
        },
        "id": "7LvElwLC3lac",
        "outputId": "2e684ce0-ca3f-4c5e-81ec-64d37e443b53"
      },
      "execution_count": null,
      "outputs": [
        {
          "output_type": "stream",
          "name": "stdout",
          "text": [
            "1.6486586255873816\n",
            "5.199999999999999\n"
          ]
        }
      ]
    },
    {
      "cell_type": "code",
      "source": [
        "softmax_output = [0.7, 0.1, 0.2]\n",
        "target_output = [1, 0, 0]\n",
        "\n",
        "loss = - (math.log(softmax_output[0]) * target_output[0] +\n",
        "          math.log(softmax_output[1]) * target_output[1] +\n",
        "          math.log(softmax_output[2]) * target_output[2])\n",
        "\n",
        "print(loss)"
      ],
      "metadata": {
        "colab": {
          "base_uri": "https://localhost:8080/"
        },
        "id": "JSh3wKDH6gGN",
        "outputId": "bd154b7b-e2e1-4539-c695-ad22b0dcb9b4"
      },
      "execution_count": null,
      "outputs": [
        {
          "output_type": "stream",
          "name": "stdout",
          "text": [
            "0.35667494393873245\n"
          ]
        }
      ]
    },
    {
      "cell_type": "code",
      "source": [
        "loss = -math.log(softmax_output[0])\n",
        "\n",
        "print(loss)"
      ],
      "metadata": {
        "colab": {
          "base_uri": "https://localhost:8080/"
        },
        "id": "khmcw31l7L4B",
        "outputId": "11158463-33d0-448d-80c2-7dc7ae981e2f"
      },
      "execution_count": null,
      "outputs": [
        {
          "output_type": "stream",
          "name": "stdout",
          "text": [
            "0.35667494393873245\n"
          ]
        }
      ]
    },
    {
      "cell_type": "markdown",
      "source": [
        "**Keypoint**:\n",
        "\n",
        "where the confidence moves higher in the correct class, the loss is lower(0.7)\n",
        "\n",
        "where the confidence gets lower in the correct class, the loss (measurement of Error) gets higher (0.5)"
      ],
      "metadata": {
        "id": "Vz0PI4cv7-m7"
      }
    },
    {
      "cell_type": "code",
      "source": [
        "print(-math.log(0.7))\n",
        "print(-math.log(0.5))"
      ],
      "metadata": {
        "colab": {
          "base_uri": "https://localhost:8080/"
        },
        "id": "Nu5_Lfhm8lxf",
        "outputId": "f43db0ae-09eb-4992-beca-b70e12982c4b"
      },
      "execution_count": null,
      "outputs": [
        {
          "output_type": "stream",
          "name": "stdout",
          "text": [
            "0.35667494393873245\n",
            "0.6931471805599453\n"
          ]
        }
      ]
    },
    {
      "cell_type": "markdown",
      "source": [
        "**Keypoint:**\n",
        "\n",
        "The main difference between `np.log` and `math.log` is that they come from different libraries in Python.\n",
        "\n",
        "- `np.log` is a function from the NumPy library, which is mainly used for numerical operations and array manipulation. It calculates the natural logarithm (base e) of a number or array.\n",
        "- `math.log` is a function from the math library, which is a standard library in Python. It also calculates the natural logarithm of a number, but it only works with single values, not arrays.\n",
        "\n",
        "In general, if you are working with arrays or numerical operations, you should use `np.log` from NumPy. If you are working with single values or general mathematical operations, you can use `math.log` from the math library.\n",
        "\n"
      ],
      "metadata": {
        "id": "9c3CkcWz-p4K"
      }
    },
    {
      "cell_type": "markdown",
      "source": [
        "# Implementing Loss\n",
        "P.8 Implementing Loss"
      ],
      "metadata": {
        "id": "wg_6CYZW8_FC"
      }
    },
    {
      "cell_type": "code",
      "source": [
        "softmax_outputs = np.array([[0.7, 0.1, 0.2],\n",
        "                           [0.1, 0.5, 0.4],\n",
        "                           [0.02, 0.9, 0.08]])\n",
        "\n",
        "class_targets = [0, 1, 1]\n",
        "\n",
        "print(softmax_outputs[[0, 1, 2], class_targets])\n",
        "\n",
        "# Using PYTHON range & np.log for Loss instead of confidence\n",
        "\n",
        "print(-np.log(softmax_outputs[range(len(softmax_outputs)), class_targets]))"
      ],
      "metadata": {
        "colab": {
          "base_uri": "https://localhost:8080/"
        },
        "id": "VBAbIcwg9H9Z",
        "outputId": "57d29a15-ef56-4339-c6e7-e33332da8ef0"
      },
      "execution_count": null,
      "outputs": [
        {
          "output_type": "stream",
          "name": "stdout",
          "text": [
            "[0.7 0.5 0.9]\n",
            "[0.35667494 0.69314718 0.10536052]\n"
          ]
        }
      ]
    },
    {
      "cell_type": "code",
      "source": [
        "neg_loss = -np.log(softmax_outputs[range(len(softmax_outputs)), class_targets])\n",
        "average_loss = np.mean(neg_loss)\n",
        "\n",
        "print(average_loss)"
      ],
      "metadata": {
        "colab": {
          "base_uri": "https://localhost:8080/"
        },
        "id": "Xg3mZZ2_CfTq",
        "outputId": "291b3216-be01-4515-a865-204f71df9f0b"
      },
      "execution_count": null,
      "outputs": [
        {
          "output_type": "stream",
          "name": "stdout",
          "text": [
            "0.38506088005216804\n"
          ]
        }
      ]
    },
    {
      "cell_type": "markdown",
      "source": [
        "**Problem**:\n",
        "\n",
        "if there is a '0' in the softmax_output, the loss amount gets to infinity"
      ],
      "metadata": {
        "id": "Sz8d4axTCsV2"
      }
    },
    {
      "cell_type": "code",
      "source": [
        "print(-np.log(1e-7))\n",
        "\n",
        "print(-np.log(1-1e-7))\n",
        "\n",
        "# y_pred_clipped = np.clip(y_pred, 1e-7, 1-1e-7)"
      ],
      "metadata": {
        "colab": {
          "base_uri": "https://localhost:8080/"
        },
        "id": "rFJKbIDWDD4d",
        "outputId": "ac08926f-30d8-430a-dd47-42ca1b9f4db9"
      },
      "execution_count": null,
      "outputs": [
        {
          "output_type": "stream",
          "name": "stdout",
          "text": [
            "16.11809565095832\n",
            "1.0000000494736474e-07\n"
          ]
        }
      ]
    },
    {
      "cell_type": "code",
      "source": [
        "class Loss:\n",
        "  def calculate(self, output, y):\n",
        "    sample_losses = self.forward(output, y)\n",
        "    data_loss = np.mean(sample_losses)\n",
        "    return data_loss\n",
        "\n",
        "\n",
        "class Loss_CategoricalCrossEntopy(Loss):\n",
        "    def forward(self, y_pred, y_true):\n",
        "        samples = len(y_pred)\n",
        "        y_pred_clipped = np.clip(y_pred, 1e-7, 1-1e-7)\n",
        "\n",
        "        if len(y_true.shape) == 1:\n",
        "            correct_confidences = y_pred_clipped[range(samples), y_true]\n",
        "        elif len(y_true.shape) == 2:\n",
        "            correct_confidences = np.sum(y_pred_clipped * y_true, axis=1)\n",
        "\n",
        "        negative_log_likelihoods = -np.log(correct_confidences)\n",
        "        return negative_log_likelihoods\n",
        "\n",
        "\n",
        "X,y = spiral_data(samples=100, classes=3)\n",
        "\n",
        "dense1 = Layer_Dense(2, 3)\n",
        "activation1 = Activation_ReLU()\n",
        "\n",
        "dense2 = Layer_Dense(3, 3)\n",
        "activation2 = Activation_Softmax()\n",
        "\n",
        "dense1.forward(X)\n",
        "activation1.forward(dense1.output)\n",
        "\n",
        "dense2.forward(activation1.output)\n",
        "activation2.forward(dense2.output)\n",
        "\n",
        "print(activation2.output[:5])\n",
        "\n",
        "loss_function = Loss_CategoricalCrossEntopy()\n",
        "loss = loss_function.calculate(activation2.output, y)\n",
        "\n",
        "print(\"Loss: \", loss)"
      ],
      "metadata": {
        "colab": {
          "base_uri": "https://localhost:8080/"
        },
        "id": "m5_yj3j0D_M1",
        "outputId": "175ec198-fe69-4fa9-8d0b-9ce0e69dea64"
      },
      "execution_count": null,
      "outputs": [
        {
          "output_type": "stream",
          "name": "stdout",
          "text": [
            "[[0.33333334 0.33333334 0.33333334]\n",
            " [0.33343706 0.33330157 0.3332613 ]\n",
            " [0.3334363  0.33340448 0.33315927]\n",
            " [0.33363777 0.33325708 0.33310518]\n",
            " [0.3337197  0.3332725  0.33300784]]\n",
            "Loss:  1.0989271\n"
          ]
        }
      ]
    },
    {
      "cell_type": "markdown",
      "source": [
        "**Calculating accuracy**"
      ],
      "metadata": {
        "id": "0x0L6OmBHNgt"
      }
    },
    {
      "cell_type": "code",
      "source": [
        "softmax_outputs = np.array([[0.7, 0.2, 0.1],\n",
        "                           [0.5, 0.1, 0.4],\n",
        "                           [0.02, 0.9, 0.08]])\n",
        "\n",
        "\n",
        "class_targets = [0, 1, 1]\n",
        "\n",
        "predictions = np.argmax(softmax_outputs, axis=1)\n",
        "\n",
        "# print(predictions)\n",
        "# print(predictions == class_targets)\n",
        "\n",
        "accuracy = np.mean(predictions == class_targets)\n",
        "\n",
        "print(\"acc: \", accuracy)"
      ],
      "metadata": {
        "colab": {
          "base_uri": "https://localhost:8080/"
        },
        "id": "OI3o4gB0Hd3g",
        "outputId": "175e5024-b7ad-4eb9-8855-53e9ab82bc43"
      },
      "execution_count": null,
      "outputs": [
        {
          "output_type": "stream",
          "name": "stdout",
          "text": [
            "acc:  0.6666666666666666\n"
          ]
        }
      ]
    },
    {
      "cell_type": "markdown",
      "source": [
        "# Final section"
      ],
      "metadata": {
        "id": "pSMH242mh14r"
      }
    },
    {
      "cell_type": "code",
      "source": [
        "import matplotlib.pyplot as plt\n",
        "from nnfs.datasets import spiral_data, vertical_data\n",
        "\n",
        "nnfs.init()\n",
        "\n",
        "class Layer_Dense:\n",
        "    def __init__(self, n_inputs, n_neurons):\n",
        "        self.weights = 0.01 * np.random.randn(n_inputs, n_neurons)\n",
        "        self.biases = np.zeros((1, n_neurons))\n",
        "\n",
        "    def forward(self, inputs):\n",
        "        self.output = np.dot(inputs, self.weights) + self.biases\n",
        "\n",
        "\n",
        "# Rectified linear Activation function\n",
        "class Activation_ReLU:\n",
        "    def forward(self, inputs):\n",
        "        self.output = np.maximum(0, inputs)\n",
        "\n",
        "\n",
        "class Activation_Softmax:\n",
        "    def forward(self, inputs):\n",
        "        exp_values = np.exp(inputs - np.max(inputs, axis=1, keepdims=True))\n",
        "        probabilities = exp_values / np.sum(exp_values, axis=1, keepdims=True)\n",
        "        self.output = probabilities\n",
        "\n",
        "\n",
        "class Loss():\n",
        "    def calculate(self, output, y):\n",
        "        sample_losses = self.forward(output, y)\n",
        "        data_loss = np.mean(sample_losses)\n",
        "        return data_loss\n",
        "\n",
        "\n",
        "class Loss_CategoricalCrossEntopy(Loss):\n",
        "    def forward(self, y_pred, y_true):\n",
        "        samples = len(y_pred)\n",
        "        y_pred_clipped = np.clip(y_pred, 1e-7, 1-1e-7)\n",
        "\n",
        "        if len(y_true.shape) == 1:\n",
        "            correct_confidences = y_pred_clipped[range(samples), y_true]\n",
        "        elif len(y_true.shape) == 2:\n",
        "            correct_confidences = np.sum(y_pred_clipped * y_true, axis=1)\n",
        "\n",
        "        negative_log_likelihoods = -np.log(correct_confidences)\n",
        "        return negative_log_likelihoods\n",
        "\n",
        "X,y = vertical_data(samples=100, classes=3)\n",
        "\n",
        "dense1 = Layer_Dense(2, 3)\n",
        "activation1 = Activation_ReLU()\n",
        "\n",
        "dense2 = Layer_Dense(3, 3)\n",
        "activation2 = Activation_Softmax()\n",
        "\n",
        "dense1.forward(X)\n",
        "activation1.forward(dense1.output)\n",
        "\n",
        "dense2.forward(activation1.output)\n",
        "activation2.forward(dense2.output)\n",
        "\n",
        "loss_function = Loss_CategoricalCrossEntopy()\n",
        "loss = loss_function.calculate(activation2.output, y)\n",
        "\n",
        "predictions = np.argmax(activation2.output, axis=1)\n",
        "accuracy = np.mean(predictions==y)\n",
        "\n",
        "print(\"Loss: \", loss)\n",
        "print(\"Accuracy: \", accuracy)\n",
        "\n",
        "plt.scatter(X[:, 0], X[:, 1], c=y, s = 40, cmap='brg')\n",
        "plt.show()"
      ],
      "metadata": {
        "colab": {
          "base_uri": "https://localhost:8080/",
          "height": 465
        },
        "id": "mqLuD_jKmKI3",
        "outputId": "a39426af-1c23-419a-d644-45a4d80853cb"
      },
      "execution_count": null,
      "outputs": [
        {
          "output_type": "stream",
          "name": "stdout",
          "text": [
            "Loss:  1.0986103\n",
            "Accuracy:  0.08666666666666667\n"
          ]
        },
        {
          "output_type": "display_data",
          "data": {
            "text/plain": [
              "<Figure size 640x480 with 1 Axes>"
            ],
            "image/png": "[encoded data removed]"
          },
          "metadata": {}
        }
      ]
    },
    {
      "cell_type": "code",
      "source": [
        "X,y = spiral_data(samples=100, classes=3)\n",
        "\n",
        "dense1 = Layer_Dense(2, 3)\n",
        "activation1 = Activation_ReLU()\n",
        "\n",
        "dense2 = Layer_Dense(3, 3)\n",
        "activation2 = Activation_Softmax()\n",
        "\n",
        "dense1.forward(X)\n",
        "activation1.forward(dense1.output)\n",
        "\n",
        "dense2.forward(activation1.output)\n",
        "activation2.forward(dense2.output)\n",
        "\n",
        "loss_function = Loss_CategoricalCrossEntopy()\n",
        "loss = loss_function.calculate(activation2.output, y)\n",
        "\n",
        "predictions = np.argmax(activation2.output, axis=1)\n",
        "accuracy = np.mean(predictions==y)\n",
        "\n",
        "print(\"Loss: \", loss)\n",
        "print(\"Accuracy: \", accuracy)\n",
        "\n",
        "plt.scatter(X[:, 0], X[:, 1], c=y, s = 40, cmap='brg')\n",
        "plt.show()"
      ],
      "metadata": {
        "colab": {
          "base_uri": "https://localhost:8080/",
          "height": 465
        },
        "id": "F8O9LN4zsDmR",
        "outputId": "5e140559-81bf-4d22-bee5-2aa6201b1e35"
      },
      "execution_count": null,
      "outputs": [
        {
          "output_type": "stream",
          "name": "stdout",
          "text": [
            "Loss:  1.0986115\n",
            "Accuracy:  0.36333333333333334\n"
          ]
        },
        {
          "output_type": "display_data",
          "data": {
            "text/plain": [
              "<Figure size 640x480 with 1 Axes>"
            ],
            "image/png": "[encoded data removed]"
          },
          "metadata": {}
        }
      ]
    }
  ]
}